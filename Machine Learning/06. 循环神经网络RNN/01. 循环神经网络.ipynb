{
 "cells": [
  {
   "cell_type": "markdown",
   "id": "1ce23743",
   "metadata": {},
   "source": [
    "动手学机器学习第10章：https://hml.boyuai.com/books/chapter10  \n"
   ]
  },
  {
   "cell_type": "markdown",
   "id": "76224695",
   "metadata": {},
   "source": [
    "不同结构的神经网络，对于处理不同类型的数据有特殊的作用。  \n",
    "比如前面介绍的卷积神经网络，因为可以用一个矩形的卷积核对图像数据进行采样，可以提取图像中横纵两个方向的数据特征，非常适合对于图像的采样处理。  \n",
    "前面的神经网络，处理的都是独立的数据。比如预测性别输入的身高体重数据，鸢尾花的数据，每一条数据之间之间是没有关联的。  \n",
    "但是也有一类数据，是时间序列相关的。比如连续一段时间的温度记录，它们就不是完全独立的，而是有一定的规律。典型的是我们的语言和文字，不能独立拿一个词或者一个字去分析处理的，而要结合上下文，尤其是前面的信息，才能做出合理的判断和处理。这样的数据，标准的神经网络和卷积神经网络处理起来都力不从心。  \n",
    "\n",
    "这时候，循环神经网络（Recurrent Neural Network）登场了。  \n",
    "\n",
    "B站的这个视频介绍了RNN的原理：https://www.bilibili.com/video/BV1z5411f7Bm/?spm_id_from=333.337.search-card.all.click&vd_source=01f16bc2c8fc7cc2791b926fd6b17377   \n"
   ]
  }
 ],
 "metadata": {
  "kernelspec": {
   "display_name": "Python 3 (ipykernel)",
   "language": "python",
   "name": "python3"
  },
  "language_info": {
   "codemirror_mode": {
    "name": "ipython",
    "version": 3
   },
   "file_extension": ".py",
   "mimetype": "text/x-python",
   "name": "python",
   "nbconvert_exporter": "python",
   "pygments_lexer": "ipython3",
   "version": "3.11.0"
  }
 },
 "nbformat": 4,
 "nbformat_minor": 5
}
