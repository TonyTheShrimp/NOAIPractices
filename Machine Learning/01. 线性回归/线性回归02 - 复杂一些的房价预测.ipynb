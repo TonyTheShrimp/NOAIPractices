{
 "cells": [
  {
   "cell_type": "markdown",
   "id": "62823990",
   "metadata": {},
   "source": [
    "这个例子就使用了多项数据，一个地区的平均收入，平均房龄，房间数量，卧室数量，地区人口等可能多个可能影响房价的因素，对房价做出预测。"
   ]
  },
  {
   "cell_type": "code",
   "execution_count": 26,
   "id": "3c4ef9bb",
   "metadata": {},
   "outputs": [
    {
     "name": "stdout",
     "output_type": "stream",
     "text": [
      "数据特征： Avg. Area Income, Avg. Area House Age, Avg. Area Number of Rooms, Avg. Area Number of Bedrooms, Area Population\n",
      "数据标签： Price\n",
      "数据总条数： 5000\n",
      "<class 'pandas.core.frame.DataFrame'>\n",
      "RangeIndex: 5000 entries, 0 to 4999\n",
      "Data columns (total 6 columns):\n",
      " #   Column                        Non-Null Count  Dtype  \n",
      "---  ------                        --------------  -----  \n",
      " 0   Avg. Area Income              5000 non-null   float64\n",
      " 1   Avg. Area House Age           5000 non-null   float64\n",
      " 2   Avg. Area Number of Rooms     5000 non-null   float64\n",
      " 3   Avg. Area Number of Bedrooms  5000 non-null   float64\n",
      " 4   Area Population               5000 non-null   float64\n",
      " 5   Price                         5000 non-null   float64\n",
      "dtypes: float64(6)\n",
      "memory usage: 234.5 KB\n"
     ]
    }
   ],
   "source": [
    "import numpy as np\n",
    "import pandas as pd\n",
    "import matplotlib.pyplot as plt\n",
    "from matplotlib.ticker import MaxNLocator\n",
    "from sklearn.preprocessing import StandardScaler\n",
    "# 导入拆分数据集用的工具包\n",
    "from sklearn.model_selection import train_test_split\n",
    "# 导入线性回归模型\n",
    "from sklearn.linear_model import LinearRegression\n",
    "# 导入计算参数的工具包\n",
    "from sklearn import metrics\n",
    "# 从源文件加载数据，并输出查看数据的各项特征\n",
    "data = pd.read_csv(\"USA_Housing.csv\")\n",
    "# lines = np.loadtxt('USA_Housing.csv', delimiter=',', dtype='str')\n",
    "headers = data.columns\n",
    "\n",
    "lines = data[1:].astype(float)\n",
    "print('数据特征：', ', '.join(headers[:-1]))     # 除最后一列以外的数据是特征数据\n",
    "print('数据标签：', headers[-1])                 # 数据的最后一列Price是Label\n",
    "print('数据总条数：', len(data))\n",
    "data.info()"
   ]
  },
  {
   "cell_type": "markdown",
   "id": "88f224ea",
   "metadata": {},
   "source": [
    "我们可以看到，一共有5000条数据，每条数据有6个字段。\n",
    "没有缺失数据。\n",
    "在这个例子中，数据比较完整，不需要进行数据清洗。"
   ]
  },
  {
   "cell_type": "code",
   "execution_count": 27,
   "id": "a7618d2a",
   "metadata": {},
   "outputs": [
    {
     "name": "stdout",
     "output_type": "stream",
     "text": [
      "归一化以前的原始数据：\n",
      "      Avg. Area Income  Avg. Area House Age  Avg. Area Number of Rooms  \\\n",
      "0         79545.458574             5.682861                   7.009188   \n",
      "1         79248.642455             6.002900                   6.730821   \n",
      "2         61287.067179             5.865890                   8.512727   \n",
      "3         63345.240046             7.188236                   5.586729   \n",
      "4         59982.197226             5.040555                   7.839388   \n",
      "...                ...                  ...                        ...   \n",
      "4994      73060.846226             5.293682                   6.312253   \n",
      "4995      60567.944140             7.830362                   6.137356   \n",
      "4996      78491.275435             6.999135                   6.576763   \n",
      "4997      63390.686886             7.250591                   4.805081   \n",
      "4998      68001.331235             5.534388                   7.130144   \n",
      "\n",
      "      Avg. Area Number of Bedrooms  Area Population         Price  \n",
      "0                             4.09     23086.800503  1.059034e+06  \n",
      "1                             3.09     40173.072174  1.505891e+06  \n",
      "2                             5.13     36882.159400  1.058988e+06  \n",
      "3                             3.26     34310.242831  1.260617e+06  \n",
      "4                             4.23     26354.109472  6.309435e+05  \n",
      "...                            ...              ...           ...  \n",
      "4994                          4.16     22695.695480  9.053549e+05  \n",
      "4995                          3.46     22837.361035  1.060194e+06  \n",
      "4996                          4.02     25616.115489  1.482618e+06  \n",
      "4997                          2.13     33266.145490  1.030730e+06  \n",
      "4998                          5.44     42625.620156  1.198657e+06  \n",
      "\n",
      "[4999 rows x 6 columns]\n",
      "归一化以后的计算数据：\n",
      "[[ 1.02850771 -0.29689431  0.02123341  0.08806783 -1.31740153 -0.48999632]\n",
      " [ 1.00065831  0.02590209 -0.25552039 -0.72221522  0.40421126  0.7754714 ]\n",
      " [-0.68462405 -0.11228855  1.51605872  0.93076221  0.07261888 -0.49012537]\n",
      " ...\n",
      " [ 0.92959677  1.0307223  -0.40868588  0.03134802 -1.06254775  0.70956342]\n",
      " [-0.48724753  1.28434484 -2.17009952 -1.50008696 -0.2917307  -0.57015113]\n",
      " [-0.05464418 -0.44664668  0.14148812  1.18194996  0.65133    -0.09459319]]\n"
     ]
    }
   ],
   "source": [
    "# 数据归一化\n",
    "data = data[:-1]\n",
    "print(\"归一化以前的原始数据：\")\n",
    "print(data)\n",
    "scaler = StandardScaler()\n",
    "scaler.fit(data)             # 使用训练集的数据计算均值和方差\n",
    "data = scaler.transform(data)\n",
    "print(\"归一化以后的计算数据：\")\n",
    "print(data)\n",
    "\n",
    "price = data[:,-1]\n",
    "# 去掉房价，留下的房间数存入rooms列表\n",
    "featureData = data[:, :-1]\n",
    "\n"
   ]
  },
  {
   "cell_type": "code",
   "execution_count": 41,
   "id": "428fcc28",
   "metadata": {},
   "outputs": [
    {
     "name": "stdout",
     "output_type": "stream",
     "text": [
      "[[-1.14044483 -2.34256656 -0.03688512  0.23391878  0.87823598]\n",
      " [ 0.74876378  1.23846187 -0.48026273 -0.47913031 -2.19109266]\n",
      " [-0.62403     0.71626862 -0.23525093  0.2906386  -0.20337372]\n",
      " ...\n",
      " [-0.2240953   0.53532609 -0.37379082 -0.68170107  0.11360444]\n",
      " [-0.92787568  1.42976478  2.2683982   0.27443294  1.3904406 ]\n",
      " [-0.6963043  -0.08160035  0.88751675  1.66811979 -0.01287175]]\n",
      "[[-0.179738    0.20953657  0.87022358 -0.51154163  1.09967091]\n",
      " [ 1.94244219 -0.57499305 -0.18960006 -1.24079638 -1.00605658]\n",
      " [-0.53505476  0.20014847 -0.47793711 -1.50818979 -1.36843524]\n",
      " ...\n",
      " [-1.00489421  1.34620328  0.68746763 -0.53585012 -0.77091821]\n",
      " [-0.29604117  0.79250611  0.10428067  0.93886504  0.29311493]\n",
      " [-0.25135468  0.33111487  0.40140564 -0.58446711  0.76966564]]\n"
     ]
    }
   ],
   "source": [
    "# 划分训练数据和测试数据\n",
    "X_train, X_test, y_train, y_test = train_test_split(featureData, price, test_size=0.2, random_state=42)\n",
    "print(X_train)\n",
    "print(X_test)"
   ]
  },
  {
   "cell_type": "markdown",
   "id": "ad767a1e",
   "metadata": {},
   "source": [
    "### 下面使用sklearn的线性回归模型来进行计算。"
   ]
  },
  {
   "cell_type": "code",
   "execution_count": 42,
   "id": "27046f6a",
   "metadata": {},
   "outputs": [
    {
     "name": "stdout",
     "output_type": "stream",
     "text": [
      "回归系数： [0.65211336 0.46577632 0.33980835 0.01137962 0.42583868] -0.0017600695280003652\n",
      "RMSE： 0.2829769935368464\n",
      "[[-1.14044483 -2.34256656 -0.03688512  0.23391878  0.87823598]\n",
      " [ 0.74876378  1.23846187 -0.48026273 -0.47913031 -2.19109266]\n",
      " [-0.62403     0.71626862 -0.23525093  0.2906386  -0.20337372]\n",
      " ...\n",
      " [-0.2240953   0.53532609 -0.37379082 -0.68170107  0.11360444]\n",
      " [-0.92787568  1.42976478  2.2683982   0.27443294  1.3904406 ]\n",
      " [-0.6963043  -0.08160035  0.88751675  1.66811979 -0.01287175]]\n",
      "[[-0.179738    0.20953657  0.87022358 -0.51154163  1.09967091]\n",
      " [ 1.94244219 -0.57499305 -0.18960006 -1.24079638 -1.00605658]\n",
      " [-0.53505476  0.20014847 -0.47793711 -1.50818979 -1.36843524]\n",
      " ...\n",
      " [-1.00489421  1.34620328  0.68746763 -0.53585012 -0.77091821]\n",
      " [-0.29604117  0.79250611  0.10428067  0.93886504  0.29311493]\n",
      " [-0.25135468  0.33111487  0.40140564 -0.58446711  0.76966564]]\n"
     ]
    }
   ],
   "source": [
    "from sklearn.linear_model import LinearRegression\n",
    "\n",
    "# 初始化线性模型\n",
    "linreg = LinearRegression()\n",
    "# LinearRegression的方法中已经考虑了线性回归的常数项，所以无须再拼接1\n",
    "linreg.fit(X_train, y_train)\n",
    "\n",
    "# coef_是训练得到的回归系数，intercept_是常数项\n",
    "print('回归系数：', linreg.coef_, linreg.intercept_)\n",
    "y_pred = linreg.predict(X_test)\n",
    "\n",
    "# 计算预测值和真实值之间的RMSE\n",
    "rmse_loss = np.sqrt(np.square(y_test - y_pred).mean())\n",
    "print('RMSE：', rmse_loss)"
   ]
  },
  {
   "cell_type": "markdown",
   "id": "cf498d89",
   "metadata": {},
   "source": [
    "可以制造一组数据测试一下"
   ]
  },
  {
   "cell_type": "code",
   "execution_count": 55,
   "id": "0f407bd3",
   "metadata": {},
   "outputs": [
    {
     "name": "stdout",
     "output_type": "stream",
     "text": [
      "制造的数据： [20000.0, 5.0, 10.0, 6.0, 36000.0, 1000000]\n",
      "标准化以后： [[-4.55846947 -0.98564017  2.99471158  1.63570847 -0.01626751 -0.65717509]]\n",
      "送去预测的数据： [[-4.55846947 -0.98564017  2.99471158  1.63570847 -0.01626751]]\n",
      "预测的输出： [-4.55846947 -0.98564017  2.99471158  1.63570847 -0.01626751 -2.40417235]\n",
      "反向归一化： [[2.00000000e+04 5.00000000e+00 1.00000000e+01 6.00000000e+00\n",
      "  3.60000000e+04 3.83106688e+05]]\n",
      "房价预计为： 383106.6880709735\n"
     ]
    },
    {
     "name": "stderr",
     "output_type": "stream",
     "text": [
      "C:\\Python3.11\\Lib\\site-packages\\sklearn\\base.py:493: UserWarning: X does not have valid feature names, but StandardScaler was fitted with feature names\n",
      "  warnings.warn(\n"
     ]
    }
   ],
   "source": [
    "x = [20000.0, 5.0, 10.0, 6.0, 36000.0]\n",
    "#x=[61287, 5.86, 8.51, 5.13, 36882]\n",
    "# 区域平均收入，区域平均房屋年龄，区域平均房间数，区域平均卧室数，区域人口\n",
    "# 因为原来的scaler是针对6列数据生成的，所以做标准化前，需要增加一列房价数据。随便填一个\n",
    "x.append(1000000)\n",
    "print(\"制造的数据：\", x)\n",
    "# 改成scaler的transform需要的二维数组，只有一行数据\n",
    "y = [x]\n",
    "# 做标准化\n",
    "y = scaler.transform(y)\n",
    "print(\"标准化以后：\", y)\n",
    "# 进行预测前，需要去掉房价数据。删掉刚刚增加的数据。\n",
    "zz =   np.delete(y[0],-1)\n",
    "# 生成二维数组\n",
    "z = np.array([zz])\n",
    "print(\"送去预测的数据：\", z)\n",
    "# 使用模型预测\n",
    "y_pred = linreg.predict(z)\n",
    "# 模型预测出的数据是标准化后的结果，需要反向计算原来的数值。再把刚刚预测出的房价加到最后一列。\n",
    "zzz = np.append(zz, y_pred)\n",
    "print(\"输入数据和预测的输出：\", zzz)\n",
    "original_data = scaler.inverse_transform([zzz]) # 使用反向计算，从归一化数据算出原来对应的值\n",
    "print(\"反向归一化：\", original_data)\n",
    "print(\"房价预计为：\", original_data[0][-1])"
   ]
  },
  {
   "cell_type": "markdown",
   "id": "c222d7b5",
   "metadata": {},
   "source": [
    "### 下面使用的是梯度下降算法训练模型"
   ]
  },
  {
   "cell_type": "code",
   "execution_count": 51,
   "id": "e8fb48a0",
   "metadata": {},
   "outputs": [
    {
     "name": "stdout",
     "output_type": "stream",
     "text": [
      "回归系数： [ 0.65255895  0.46427021  0.34136895  0.01279476  0.42656665 -0.0018226 ]\n"
     ]
    },
    {
     "data": {
      "image/png": "[encoded data removed]",
      "text/plain": [
       "<Figure size 640x480 with 1 Axes>"
      ]
     },
     "metadata": {},
     "output_type": "display_data"
    }
   ],
   "source": [
    "# 该函数每次返回大小为batch_size的批量\n",
    "# x和y分别为输入和标签\n",
    "# 若shuffle = True，则每次遍历时会将数据重新随机划分\n",
    "def batch_generator(x, y, batch_size, shuffle=True):\n",
    "    # 批量计数器\n",
    "    batch_count = 0\n",
    "    if shuffle:\n",
    "        # 随机生成0到len(x)-1的下标\n",
    "        idx = np.random.permutation(len(x))\n",
    "        x = x[idx]\n",
    "        y = y[idx]\n",
    "    while True:\n",
    "        start = batch_count * batch_size\n",
    "        end = min(start + batch_size, len(x))\n",
    "        if start >= end:\n",
    "            # 已经遍历一遍，结束生成\n",
    "            break\n",
    "        batch_count += 1\n",
    "        yield x[start: end], y[start: end]\n",
    "\n",
    "def SGD(num_epoch, learning_rate, batch_size):\n",
    "    # 拼接原始矩阵\n",
    "    X = np.concatenate([X_train, np.ones((len(X_train), 1))], axis=-1)\n",
    "    X_test1 = np.concatenate([X_test, np.ones((len(X_test), 1))], axis=-1)\n",
    "    # 随机初始化参数\n",
    "    theta = np.random.normal(size=X.shape[1])\n",
    "\n",
    "    # 随机梯度下降\n",
    "    # 为了观察迭代过程，我们记录每一次迭代后在训练集和测试集上的均方根误差\n",
    "    train_losses = []\n",
    "    test_losses = []\n",
    "    for i in range(num_epoch):\n",
    "        # 初始化批量生成器\n",
    "        batch_g = batch_generator(X, y_train, batch_size, shuffle=True)\n",
    "        train_loss = 0\n",
    "        for x_batch, y_batch in batch_g:\n",
    "            # 计算梯度\n",
    "            grad = x_batch.T @ (x_batch @ theta - y_batch)\n",
    "            # 更新参数\n",
    "            theta = theta - learning_rate * grad / len(x_batch)\n",
    "            # 累加平方误差\n",
    "            train_loss += np.square(x_batch @ theta - y_batch).sum()\n",
    "        # 计算训练和测试误差\n",
    "        train_loss = np.sqrt(train_loss / len(X))\n",
    "        train_losses.append(train_loss)\n",
    "        test_loss = np.sqrt(np.square(X_test1 @ theta - y_test).mean())\n",
    "        test_losses.append(test_loss)\n",
    "\n",
    "    # 输出结果，绘制训练曲线\n",
    "    print('回归系数：', theta)\n",
    "    return theta, train_losses, test_losses\n",
    "\n",
    "# 设置迭代次数，学习率与批量大小\n",
    "num_epoch = 20\n",
    "learning_rate = 0.01\n",
    "batch_size = 32\n",
    "# 设置随机种子\n",
    "np.random.seed(0)\n",
    "\n",
    "_, train_losses, test_losses = SGD(num_epoch, learning_rate, batch_size)\n",
    "    \n",
    "# 将损失函数关于运行次数的关系制图，可以看到损失函数先一直保持下降，之后趋于平稳\n",
    "plt.plot(np.arange(num_epoch), train_losses, color='blue', \n",
    "    label='train loss')\n",
    "plt.plot(np.arange(num_epoch), test_losses, color='red', \n",
    "    ls='--', label='test loss')\n",
    "# 由于epoch是整数，这里把图中的横坐标也设置为整数\n",
    "# 该步骤也可以省略\n",
    "plt.gca().xaxis.set_major_locator(MaxNLocator(integer=True))\n",
    "plt.xlabel('Epoch')\n",
    "plt.ylabel('RMSE')\n",
    "plt.legend()\n",
    "plt.show()"
   ]
  },
  {
   "cell_type": "code",
   "execution_count": null,
   "id": "e4f109f3",
   "metadata": {},
   "outputs": [],
   "source": []
  }
 ],
 "metadata": {
  "kernelspec": {
   "display_name": "Python 3 (ipykernel)",
   "language": "python",
   "name": "python3"
  },
  "language_info": {
   "codemirror_mode": {
    "name": "ipython",
    "version": 3
   },
   "file_extension": ".py",
   "mimetype": "text/x-python",
   "name": "python",
   "nbconvert_exporter": "python",
   "pygments_lexer": "ipython3",
   "version": "3.11.0"
  }
 },
 "nbformat": 4,
 "nbformat_minor": 5
}
