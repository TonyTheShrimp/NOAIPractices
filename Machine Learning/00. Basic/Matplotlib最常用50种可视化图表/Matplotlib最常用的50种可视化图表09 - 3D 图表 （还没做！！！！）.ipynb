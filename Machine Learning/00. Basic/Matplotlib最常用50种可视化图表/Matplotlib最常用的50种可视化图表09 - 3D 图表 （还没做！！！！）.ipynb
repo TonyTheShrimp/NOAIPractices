{
 "cells": [
  {
   "cell_type": "markdown",
   "metadata": {},
   "source": [
    " \n",
    "# Matplotlib 必须掌握的 50 个可视化图表（附完整 Python 源代码）\n",
    "\n",
    "本文总结了 Matplotlib 以及 Seaborn 用的最多的50个图形，掌握这些图形的绘制，对于数据分析的可视化有莫大的作用，强烈推荐大家阅读后续内容。\n",
    "\n",
    "如果觉得内容不错，欢迎分享到您的朋友圈。\n",
    "\n",
    "Tips：\n",
    "\n",
    "（1）本文原文部分代码有不准确的地方，已进行修改；\n",
    "\n",
    "（2）所有正确的源代码，我已整合到 jupyter notebook 文件中，可以在公众号『Python数据之道』后台回复 “code”，可获得本文源代码；\n",
    "\n",
    "（3）运行本文代码，除了安装 matplotlib 和 seaborn 可视化库外，还需要安装其他的一些辅助可视化库，已在代码部分作标注，具体内容请查看下面文章内容。\n",
    "\n",
    "（4）本文完整的翻译文章来自 http://liyangbit.com/\n",
    "\n"
   ]
  },
  {
   "cell_type": "markdown",
   "metadata": {},
   "source": [
    "在数据分析和可视化中最有用的 50 个 Matplotlib 图表。 这些图表列表允许您使用 python 的 matplotlib 和 seaborn 库选择要显示的可视化对象。\n",
    "\n",
    "## 介绍\n",
    "这些图表根据可视化目标的7个不同情景进行分组。 例如，如果要想象两个变量之间的关系，请查看“相关”部分下的图表。 或者，如果您想要显示值如何随时间变化，请查看“更改”部分，依此类推。\n",
    "\n",
    "\n",
    "有效图表的重要特征：\n",
    "\n",
    "* 在不歪曲事实的情况下传达正确和必要的信息。\n",
    "* 设计简单，您不必太费力就能理解它。\n",
    "* 从审美角度支持信息而不是掩盖信息。\n",
    "* 信息没有超负荷。"
   ]
  },
  {
   "cell_type": "markdown",
   "metadata": {},
   "source": [
    "## 准备工作\n",
    "\n",
    "在代码运行前先引入下面的设置内容。 当然，单独的图表，可以重新设置显示要素。\n",
    "\n",
    "plt设置seaborn的style的可能选项有：bright，colorblind，dark，dark-palette，darkgrid，deep，muted，notebook，paper，pastel，poster，talk，ticks，white，whitegrid"
   ]
  },
  {
   "cell_type": "code",
   "execution_count": 22,
   "metadata": {},
   "outputs": [
    {
     "name": "stdout",
     "output_type": "stream",
     "text": [
      "3.6.2\n",
      "0.13.2\n"
     ]
    }
   ],
   "source": [
    "# !pip install brewer2mpl\n",
    "import numpy as np\n",
    "from random import randint\n",
    "import pandas as pd\n",
    "import matplotlib as mpl\n",
    "import matplotlib.pyplot as plt\n",
    "import seaborn as sns\n",
    "import warnings; warnings.filterwarnings(action='once')\n",
    "\n",
    "\n",
    "\n",
    "large = 22; med = 16; small = 12\n",
    "params = {'axes.titlesize': large,\n",
    "          'legend.fontsize': med,\n",
    "          'figure.figsize': (16, 10),\n",
    "          'axes.labelsize': med,\n",
    "          'axes.titlesize': med,\n",
    "          'xtick.labelsize': med,\n",
    "          'ytick.labelsize': med,\n",
    "          'figure.titlesize': large}\n",
    "plt.rcParams.update(params)\n",
    "plt.style.use('seaborn-v0_8-whitegrid')\n",
    "sns.set_style(\"white\")\n",
    "%matplotlib inline\n",
    "\n",
    "# 设置中文显示\n",
    "matplotlib.rcParams['font.family'] = 'sans-serif'\n",
    "matplotlib.rcParams['font.sans-serif'] = ['SimHei']  # 指定默认字体为黑体\n",
    "\n",
    "# Version\n",
    "print(mpl.__version__)  #> 3.0.0\n",
    "print(sns.__version__)  #> 0.9.0"
   ]
  },
  {
   "cell_type": "code",
   "execution_count": null,
   "metadata": {},
   "outputs": [],
   "source": []
  }
 ],
 "metadata": {
  "kernelspec": {
   "display_name": "Python 3 (ipykernel)",
   "language": "python",
   "name": "python3"
  },
  "language_info": {
   "codemirror_mode": {
    "name": "ipython",
    "version": 3
   },
   "file_extension": ".py",
   "mimetype": "text/x-python",
   "name": "python",
   "nbconvert_exporter": "python",
   "pygments_lexer": "ipython3",
   "version": "3.11.0"
  },
  "toc": {
   "base_numbering": 1,
   "nav_menu": {},
   "number_sections": true,
   "sideBar": true,
   "skip_h1_title": false,
   "title_cell": "Table of Contents",
   "title_sidebar": "Contents",
   "toc_cell": false,
   "toc_position": {},
   "toc_section_display": true,
   "toc_window_display": true
  }
 },
 "nbformat": 4,
 "nbformat_minor": 2
}
