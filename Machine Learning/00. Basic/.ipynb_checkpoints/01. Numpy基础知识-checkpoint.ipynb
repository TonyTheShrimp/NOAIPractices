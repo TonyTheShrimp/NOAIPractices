{
 "cells": [
  {
   "cell_type": "markdown",
   "id": "7818da2f",
   "metadata": {},
   "source": [
    "## 什么是 NumPy?  \n",
    "NumPy是一个功能强大的Python库，主要用于对多维数组执行计算。NumPy这个词来源于两个单词-- Numerical和Python。NumPy提供了大量的库函数和操作，可以帮助程序员轻松地进行数值计算。这类数值计算广泛用于以下任务：  \n",
    "\n",
    "**机器学习模型：**  在编写机器学习算法时，需要对矩阵进行各种数值计算。例如矩阵乘法、换位、加法等。NumPy提供了一个非常好的库，用于简单(在编写代码方面)和快速(在速度方面)计算。NumPy数组用于存储训练数据和机器学习模型的参数。\n",
    "\n",
    "**图像处理和计算机图形学：** 计算机中的图像表示为多维数字数组。NumPy成为同样情况下最自然的选择。实际上，NumPy提供了一些优秀的库函数来快速处理图像。例如，镜像图像、按特定角度旋转图像等。\n",
    "\n",
    "**数学任务：**  NumPy对于执行各种数学任务非常有用，如数值积分、微分、内插、外推等。因此，当涉及到数学任务时，它形成了一种基于Python的MATLAB的快速替代。\n",
    "\n",
    "Numpy数据结构在以下方面表现更好：  \n",
    "\n",
    "1.内存大小—Numpy数据结构占用的内存更小。  \n",
    "\n",
    "2.性能—Numpy底层是用C语言实现的，比列表更快。  \n",
    "\n",
    "3.运算方法—内置优化了代数运算等方法。  \n",
    "\n",
    "简而言之，Numpy在性能上比起Python自带的数组（列表）有很大的提升。在数据量小的场景可能不太明显，但是随着处理数据量的提升，Numpy可以带来成倍的性能提高。所以Numpy是现在数据处理必备的工具。"
   ]
  },
  {
   "cell_type": "markdown",
   "id": "bace09c4",
   "metadata": {},
   "source": [
    "**关于先学基础知识还是先动手做项目。各有利弊，先学知识可能看了很多，但是并不知道有什么实际用处，往往也没深刻印象。如果先动手做项目，又会不断遇到不了解的基础知识，学习过程不断被打断。最后只能结合吧。先快速了解基础知识，然后动手做项目，遇到忘了或者没了解过的知识，再查找资料。最后还是那个老结论，多做多用就记住了。**"
   ]
  },
  {
   "cell_type": "markdown",
   "id": "54994d63",
   "metadata": {},
   "source": [
    "### NumPy 的安装  \n",
    "和大多数Python额外的module一夜，在计算机上安装NumPy的最快也是最简单的方法是在shell上使用以下命令：pip install numpy。"
   ]
  },
  {
   "cell_type": "code",
   "execution_count": 14,
   "id": "f67e05bd",
   "metadata": {},
   "outputs": [
    {
     "name": "stdout",
     "output_type": "stream",
     "text": [
      "1.23.4\n"
     ]
    }
   ],
   "source": [
    "import numpy as np     # 引入numpy模块，名命为np\n",
    "print(np.__version__)  # 查看一下版本号"
   ]
  },
  {
   "cell_type": "markdown",
   "id": "591c4c72",
   "metadata": {},
   "source": [
    "### NumPy的数组  \n",
    "NumPy提供的最重要的数据结构是一个称为NumPy数组的强大对象。NumPy数组是通常的Python数组的扩展。NumPy数组配备了大量的函数和运算符，可以帮助我们快速编写上面讨论过的各种类型计算的高性能代码。"
   ]
  },
  {
   "cell_type": "markdown",
   "id": "67b3c38d",
   "metadata": {},
   "source": [
    "### Numpy数组的初始化"
   ]
  },
  {
   "cell_type": "code",
   "execution_count": 15,
   "id": "9dfc1ed6",
   "metadata": {},
   "outputs": [
    {
     "name": "stdout",
     "output_type": "stream",
     "text": [
      "[0 1 2 3 4]\n",
      "['a' 'b' 'c' 'd' 'e' 'f' 'g' 'h']\n",
      "[0 1 2 3 4]\n",
      "[0.         1.57079633 3.14159265 4.71238898 6.28318531]\n",
      "3\n",
      "[[ True  True  True]\n",
      " [ True  True  True]\n",
      " [ True  True  True]]\n",
      "[[ True  True  True]\n",
      " [ True  True  True]\n",
      " [ True  True  True]]\n"
     ]
    }
   ],
   "source": [
    "# 创建一维数组\n",
    "a = np.array([0, 1, 2, 3, 4])\n",
    "b = np.array((\"a\",\"b\",\"c\",\"d\",\"e\",\"f\",\"g\",\"h\"))\n",
    "c = np.arange(5)\n",
    "d = np.linspace(0, 2*np.pi, 5)  # linespace函数生成一个等间隔数字序列，linespace(start,end,total)\n",
    "\n",
    "print(a) # >>>[0 1 2 3 4]\n",
    "print(b) # >>>['a' 'b' 'c' 'd' 'e' 'f' 'g' 'h']\n",
    "print(c) # >>>[0 1 2 3 4]\n",
    "print(d) # >>>[ 0.          1.57079633  3.14159265  4.71238898  6.28318531]\n",
    "print(a[3]) # 访问数组指定下标元素，数组下标从0开始\n",
    "\n",
    "e = np.full((3, 3), True, dtype=bool)\n",
    "# > array([[ True,  True,  True],\n",
    "# >        [ True,  True,  True],\n",
    "# >        [ True,  True,  True]], dtype=bool)\n",
    "print(e)\n",
    "\n",
    "# Alternate method:\n",
    "f = np.ones((3,3), dtype=bool)\n",
    "print(f)"
   ]
  },
  {
   "cell_type": "code",
   "execution_count": 4,
   "id": "86c26cc0",
   "metadata": {},
   "outputs": [
    {
     "name": "stdout",
     "output_type": "stream",
     "text": [
      "25\n"
     ]
    }
   ],
   "source": [
    "# 创建二维数组\n",
    "a = np.array([[11, 12, 13, 14, 15],\n",
    "              [16, 17, 18, 19, 20],\n",
    "              [21, 22, 23, 24, 25],\n",
    "              [26, 27, 28 ,29, 30],\n",
    "              [31, 32, 33, 34, 35]])\n",
    " \n",
    "print(a[2,4]) # 访问数组指定下标元素，数组下标从0开始"
   ]
  },
  {
   "cell_type": "markdown",
   "id": "44be08e5",
   "metadata": {},
   "source": [
    "在Numpy的ndarray中，原则上是不支持增加或者删除数组的元素的（这样才能有比较好的性能）。另外，numpy的ndarray的同一个数组，也不支持不同的数据类型。这样每个数组元素，占据的空间一致。这样尤其在处理数字数据的时候，可以有最好的性能。  \n",
    "\n",
    "ndarray有append和delete操作，但是这种操作实际不是修改了原始数组，而是重新创建了一个新数组。这样在数组规模很大的时候，耗时非常大。所以尽量不要使用。  \n"
   ]
  },
  {
   "cell_type": "code",
   "execution_count": 5,
   "id": "f973cb7c",
   "metadata": {},
   "outputs": [
    {
     "name": "stdout",
     "output_type": "stream",
     "text": [
      "Original array: [1 2 3]\n",
      "After append: [1 2 3 4 5]\n",
      "After delete: [1 3 4 5]\n"
     ]
    }
   ],
   "source": [
    "# 创建原始数组\n",
    "arr = np.array([1, 2, 3])\n",
    "print(\"Original array:\", arr)\n",
    "\n",
    "# 添加元素\n",
    "arr = np.append(arr, [4, 5])\n",
    "print(\"After append:\", arr)\n",
    "\n",
    "# 删除元素\n",
    "arr = np.delete(arr, 1)  # 删除索引为1的元素\n",
    "print(\"After delete:\", arr)"
   ]
  },
  {
   "cell_type": "code",
   "execution_count": null,
   "id": "7cd88afe",
   "metadata": {},
   "outputs": [],
   "source": [
    "Numpy的ndarray和Phthon的数组（list）可以互相转换。"
   ]
  },
  {
   "cell_type": "code",
   "execution_count": 7,
   "id": "7ad2bdbc",
   "metadata": {},
   "outputs": [
    {
     "name": "stdout",
     "output_type": "stream",
     "text": [
      "[1 2 3 4 5]\n",
      "<class 'numpy.ndarray'>\n",
      "[[1 2 3]\n",
      " [4 5 6]\n",
      " [7 8 9]]\n",
      "[1, 2, 3, 4, 5]\n",
      "<class 'list'>\n",
      "[[1, 2, 3], [4, 5, 6], [7, 8, 9]]\n"
     ]
    }
   ],
   "source": [
    "# Python 列表\n",
    "python_list = [1, 2, 3, 4, 5]\n",
    "\n",
    "# 转换为 NumPy 数组\n",
    "numpy_array = np.array(python_list)\n",
    "\n",
    "print(numpy_array)\n",
    "print(type(numpy_array))\n",
    "\n",
    "# Python 列表的列表\n",
    "python_list_of_lists = [[1, 2, 3], [4, 5, 6], [7, 8, 9]]\n",
    "\n",
    "# 转换为二维 NumPy 数组\n",
    "numpy_2d_array = np.array(python_list_of_lists)\n",
    "\n",
    "print(numpy_2d_array)\n",
    "\n",
    "# NumPy 数组\n",
    "numpy_array = np.array([1, 2, 3, 4, 5])\n",
    "\n",
    "# 转换为 Python 列表\n",
    "python_list = numpy_array.tolist()\n",
    "\n",
    "print(python_list)\n",
    "print(type(python_list))\n",
    "\n",
    "# 二维 NumPy 数组\n",
    "numpy_2d_array = np.array([[1, 2, 3], [4, 5, 6], [7, 8, 9]])\n",
    "\n",
    "# 转换为 Python 列表的列表\n",
    "python_list_of_lists = numpy_2d_array.tolist()\n",
    "\n",
    "print(python_list_of_lists)\n"
   ]
  },
  {
   "cell_type": "markdown",
   "id": "3c907229",
   "metadata": {},
   "source": [
    "### 数组的切片访问"
   ]
  },
  {
   "cell_type": "code",
   "execution_count": 8,
   "id": "d1c5b572",
   "metadata": {},
   "outputs": [
    {
     "name": "stdout",
     "output_type": "stream",
     "text": [
      "[[11 12 13 14 15]\n",
      " [16 17 18 19 20]\n",
      " [21 22 23 24 25]\n",
      " [26 27 28 29 30]\n",
      " [31 32 33 34 35]]\n",
      "[12 13 14]\n",
      "[16 21 26]\n",
      "[[11 13 15]\n",
      " [21 23 25]\n",
      " [31 33 35]]\n",
      "[12 17 22 27 32]\n"
     ]
    }
   ],
   "source": [
    "a = np.array([[11, 12, 13, 14, 15],\n",
    "              [16, 17, 18, 19, 20],\n",
    "              [21, 22, 23, 24, 25],\n",
    "              [26, 27, 28 ,29, 30],\n",
    "              [31, 32, 33, 34, 35]])\n",
    "\n",
    "print(a)\n",
    "\n",
    "# MD slicing\n",
    "print(a[0, 1:4])  # 第0行，第1到第3个元素（不包括4）\n",
    "print(a[1:4, 0])  # 第1到第3行，第0个元素\n",
    "print(a[::2,::2]) # 全部行列，步长2选取元素\n",
    "print(a[:, 1])    # 全部行，第一列"
   ]
  },
  {
   "cell_type": "markdown",
   "id": "501e9a89",
   "metadata": {},
   "source": [
    "### 数组属性   \n",
    "在使用 NumPy 时，你会想知道数组的某些信息。很幸运，在这个包里边包含了很多便捷的方法，可以给你想要的信息。  "
   ]
  },
  {
   "cell_type": "code",
   "execution_count": 10,
   "id": "340eda9c",
   "metadata": {},
   "outputs": [
    {
     "name": "stdout",
     "output_type": "stream",
     "text": [
      "<class 'numpy.ndarray'>\n",
      "int32\n",
      "35\n",
      "(7, 5)\n",
      "4\n",
      "2\n",
      "140\n"
     ]
    }
   ],
   "source": [
    "a = np.array([[11, 12, 13, 14, 15],\n",
    "              [16, 17, 18, 19, 20],\n",
    "              [21, 22, 23, 24, 25],\n",
    "              [26, 27, 28 ,29, 30],\n",
    "              [31, 32, 33, 34, 35],\n",
    "              [36, 37, 38, 39, 40],\n",
    "              [41, 42, 43, 44, 45]])\n",
    "\n",
    "print(type(a))     # >>><class 'numpy.ndarray'>\n",
    "print(a.dtype)     # >>>int32\n",
    "print(a.shape)     # >>>(7, 5)\n",
    "print(a.size)      # >>>元素个数，行x列=35\n",
    "print(a.itemsize)  # 表示数组中每个元素的大小，以字节为单位。int32是4个字节\n",
    "print(a.ndim)      # >>>数组的维数\n",
    "print(a.nbytes)    # >>> 数组总字节数，35*4 = 140"
   ]
  },
  {
   "cell_type": "markdown",
   "id": "9deb1c51",
   "metadata": {},
   "source": [
    "### 改变数组形状和数组整体计算"
   ]
  },
  {
   "cell_type": "code",
   "execution_count": 20,
   "id": "e3c6dfbc",
   "metadata": {},
   "outputs": [
    {
     "name": "stdout",
     "output_type": "stream",
     "text": [
      "一维数组：\n",
      "[ 0  1  2  3  4  5  6  7  8  9 10 11 12 13 14 15 16 17 18 19 20 21 22 23\n",
      " 24]\n",
      "变成二维数组：\n",
      "[[ 0  1  2  3  4]\n",
      " [ 5  6  7  8  9]\n",
      " [10 11 12 13 14]\n",
      " [15 16 17 18 19]\n",
      " [20 21 22 23 24]]\n",
      "一维数组：\n",
      "[10 62  1 14  2 56 79  2  1 45  4 92  5 55 63 43 35  6 53 24 56  3 56 44\n",
      " 78]\n",
      "变成二维数组：\n",
      "[[10 62  1 14  2]\n",
      " [56 79  2  1 45]\n",
      " [ 4 92  5 55 63]\n",
      " [43 35  6 53 24]\n",
      " [56  3 56 44 78]]\n",
      "每个位置加一个值：\n",
      "[[ 3  4  5  6  7]\n",
      " [ 8  9 10 11 12]\n",
      " [13 14 15 16 17]\n",
      " [18 19 20 21 22]\n",
      " [23 24 25 26 27]]\n",
      "每个位置求平方：\n",
      "[[  0   1   4   9  16]\n",
      " [ 25  36  49  64  81]\n",
      " [100 121 144 169 196]\n",
      " [225 256 289 324 361]\n",
      " [400 441 484 529 576]]\n",
      "每个对应位置求和：\n",
      "[[ 10  63   3  17   6]\n",
      " [ 61  85   9   9  54]\n",
      " [ 14 103  17  68  77]\n",
      " [ 58  51  23  71  43]\n",
      " [ 76  24  78  67 102]]\n",
      "每个对应位置求差：\n",
      "[[-10 -61   1 -11   2]\n",
      " [-51 -73   5   7 -36]\n",
      " [  6 -81   7 -42 -49]\n",
      " [-28 -19  11 -35  -5]\n",
      " [-36  18 -34 -21 -54]]\n",
      "每个对应位置求积：\n",
      "[[   0   62    2   42    8]\n",
      " [ 280  474   14    8  405]\n",
      " [  40 1012   60  715  882]\n",
      " [ 645  560  102  954  456]\n",
      " [1120   63 1232 1012 1872]]\n",
      "每个对应位置求商：\n",
      "[[0.         0.01612903 2.         0.21428571 2.        ]\n",
      " [0.08928571 0.07594937 3.5        8.         0.2       ]\n",
      " [2.5        0.11956522 2.4        0.23636364 0.22222222]\n",
      " [0.34883721 0.45714286 2.83333333 0.33962264 0.79166667]\n",
      " [0.35714286 7.         0.39285714 0.52272727 0.30769231]]\n",
      "每个对应位置比较：\n",
      "[[ True  True False  True False]\n",
      " [ True  True False False  True]\n",
      " [False  True False  True  True]\n",
      " [ True  True False  True  True]\n",
      " [ True False  True  True  True]]\n",
      "每个对应位置比较：\n",
      "[[False False  True False  True]\n",
      " [False False  True  True False]\n",
      " [ True False  True False False]\n",
      " [False False  True False False]\n",
      " [False  True False False False]]\n",
      "两个矩阵求点积：\n",
      "[[ 417  380  254  446  555]\n",
      " [1262 1735  604 1281 1615]\n",
      " [2107 3090  954 2116 2675]\n",
      " [2952 4445 1304 2951 3735]\n",
      " [3797 5800 1654 3786 4795]]\n",
      "菲矩形矩阵求点积：\n",
      "[[ 42  48  54]\n",
      " [114 136 158]\n",
      " [186 224 262]]\n",
      "变成一维数组：\n",
      "[[ 0  1  2  3  4  5  6  7  8  9 10 11 12 13 14 15 16 17 18 19 20 21 22 23\n",
      "  24]]\n",
      "[[ 0  1  2  3  4  5]\n",
      " [ 6  7  8  9 10 11]]\n",
      "元素数量不对，会出错：\n"
     ]
    },
    {
     "ename": "ValueError",
     "evalue": "cannot reshape array of size 25 into shape (4,6)",
     "output_type": "error",
     "traceback": [
      "\u001b[1;31m---------------------------------------------------------------------------\u001b[0m",
      "\u001b[1;31mValueError\u001b[0m                                Traceback (most recent call last)",
      "Cell \u001b[1;32mIn[20], line 51\u001b[0m\n\u001b[0;32m     49\u001b[0m \u001b[38;5;28mprint\u001b[39m(c)\n\u001b[0;32m     50\u001b[0m \u001b[38;5;28mprint\u001b[39m(\u001b[38;5;124m\"\u001b[39m\u001b[38;5;124m元素数量不对，会出错：\u001b[39m\u001b[38;5;124m\"\u001b[39m)\n\u001b[1;32m---> 51\u001b[0m a \u001b[38;5;241m=\u001b[39m \u001b[43ma\u001b[49m\u001b[38;5;241;43m.\u001b[39;49m\u001b[43mreshape\u001b[49m\u001b[43m(\u001b[49m\u001b[43m(\u001b[49m\u001b[38;5;241;43m4\u001b[39;49m\u001b[43m,\u001b[49m\u001b[38;5;241;43m6\u001b[39;49m\u001b[43m)\u001b[49m\u001b[43m)\u001b[49m\n",
      "\u001b[1;31mValueError\u001b[0m: cannot reshape array of size 25 into shape (4,6)"
     ]
    }
   ],
   "source": [
    "# Basic Operators\n",
    "a = np.arange(25)   \n",
    "print(\"一维数组：\")\n",
    "print(a)\n",
    "a = a.reshape((5, 5))  # 变为二维数组\n",
    "print(\"变成二维数组：\")\n",
    "print(a)\n",
    "\n",
    "b = np.array([10, 62, 1, 14, 2, 56, 79, 2, 1, 45,\n",
    "              4, 92, 5, 55, 63, 43, 35, 6, 53, 24,\n",
    "              56, 3, 56, 44, 78])\n",
    "print(\"一维数组：\")\n",
    "print(b)\n",
    "b = b.reshape((5,5))\n",
    "print(\"变成二维数组：\")\n",
    "print(b)\n",
    "\n",
    "print(\"每个位置加一个值：\")\n",
    "print(a + 3)\n",
    "print(\"每个位置求平方：\")\n",
    "print(a ** 2)\n",
    "\n",
    "print(\"每个对应位置求和：\")\n",
    "print(a + b)\n",
    "print(\"每个对应位置求差：\")\n",
    "print(a - b)\n",
    "print(\"每个对应位置求积：\")\n",
    "print(a * b)\n",
    "print(\"每个对应位置求商：\")\n",
    "print(a / b)\n",
    "print(\"每个对应位置比较：\")\n",
    "print(a < b) \n",
    "print(\"每个对应位置比较：\")\n",
    "print(a > b)\n",
    "print(\"两个矩阵求点积：\")\n",
    "print(a.dot(b))\n",
    "\n",
    "print(\"菲矩形矩阵求点积：\")\n",
    "c = np.arange(12)\n",
    "c1 = c.reshape((3,4))\n",
    "c2 = c.reshape((4,3))\n",
    "print(c1.dot(c2))\n",
    "\n",
    "\n",
    "a = a.reshape((1,25))  # 用-1，表示全部元素\n",
    "print(\"变成一维数组：\")\n",
    "print(a)\n",
    "c = c.reshape((2,-1))  # 可以有一维使用-1\n",
    "print(c)\n",
    "print(\"元素数量不对，会出错：\")\n",
    "a = a.reshape((4,6))"
   ]
  },
  {
   "cell_type": "markdown",
   "id": "f5468866",
   "metadata": {},
   "source": [
    "### 数组特殊运算符\n",
    "NumPy还提供了一些别的用于处理数组的好用的运算符。"
   ]
  },
  {
   "cell_type": "code",
   "execution_count": 8,
   "id": "2ba3127a",
   "metadata": {},
   "outputs": [
    {
     "name": "stdout",
     "output_type": "stream",
     "text": [
      "Sum: 12.0\n",
      "Mean: 2.4\n",
      "Standard Deviation: 1.5620499351813308\n",
      "Variance: 2.44\n",
      "Minimum: 0.0\n",
      "Maximum: 4.5\n",
      "Index of Minimum: 0\n",
      "Index of Maximum: 4\n",
      "Product of Elements: 0.0\n",
      "Cumulative Sum: [ 0.   1.5  4.   7.5 12. ]\n",
      "Cumulative Product: [0. 0. 0. 0. 0.]\n",
      "All True: False\n",
      "Any True: True\n",
      "Clipped Array: [2.  2.  2.5 3.5 4. ]\n",
      "Rounded Array: [0.  1.5 2.5 3.5 4.5]\n"
     ]
    }
   ],
   "source": [
    "import numpy as np\n",
    "\n",
    "# 创建数组\n",
    "arr = np.array([0, 1.5, 2.5, 3.5, 4.5])\n",
    "\n",
    "# 应用方法\n",
    "print(\"Sum:\", arr.sum())                   # 求和\n",
    "print(\"Mean:\", arr.mean())                 # 求平均\n",
    "print(\"Standard Deviation:\", arr.std())    # 求标准差\n",
    "print(\"Variance:\", arr.var())              # 求方差   \n",
    "print(\"Minimum:\", arr.min())               # 求最小值   \n",
    "print(\"Maximum:\", arr.max())               # 求最大值 \n",
    "print(\"Index of Minimum:\", arr.argmin())   # 求最小值的索引位置\n",
    "print(\"Index of Maximum:\", arr.argmax())   # 求最大值的索引位置\n",
    "print(\"Product of Elements:\", arr.prod())  # 求乘积\n",
    "print(\"Cumulative Sum:\", arr.cumsum())     # 求连续和 \n",
    "print(\"Cumulative Product:\", arr.cumprod())# 求连续积\n",
    "print(\"All True:\", arr.all())              # 全部为True（非0） \n",
    "print(\"Any True:\", arr.any())              # 最少一个为True（非0）\n",
    "print(\"Clipped Array:\", arr.clip(2, 4))    # 将所有值限定在指定范围内\n",
    "print(\"Rounded Array:\", arr.round(1))      # 将所有数值四舍五入到指定位小数"
   ]
  },
  {
   "cell_type": "code",
   "execution_count": null,
   "id": "b0f03d78",
   "metadata": {},
   "outputs": [],
   "source": [
    "### 数值条件索引\n",
    "可以在数值下标的【】中写入一个条件，会返回所有满足条件的元素。\n",
    "可以使用where，返回的是满足条件的元素的下标"
   ]
  },
  {
   "cell_type": "code",
   "execution_count": 16,
   "id": "d73f2522",
   "metadata": {},
   "outputs": [
    {
     "name": "stdout",
     "output_type": "stream",
     "text": [
      "[ 0  1  2  4  5  6  8 10 12 13 15 17 19 20 21]\n",
      "[13 15 17 19 20 21]\n",
      "[ 1  4 10 13 19]\n",
      "[ 0  3  2  4 15  6  8 10 12 39 45 51 57 20 63]\n",
      "(array([0, 1, 2, 3, 4], dtype=int64),)\n",
      "[5 6 7 8 9]\n"
     ]
    }
   ],
   "source": [
    "a = np.array([0,1,2,4,5,6,8,10,12,13,15,17,19,20,21])\n",
    "print(a)\n",
    "b = a[a>12]    # 找出大于12的元素\n",
    "print(b)\n",
    "c = a[a%3==1]  # 找出模3余1的元素\n",
    "print(c)\n",
    "\n",
    "# 使用条件索引修改元素\n",
    "a[a % 2 == 1] *= 3  # 所有奇数*3\n",
    "print(a)\n",
    "\n",
    "# Where，\n",
    "a = np.arange(0, 100, 10)\n",
    "b = np.where(a < 50) \n",
    "c = np.where(a >= 50)[0]\n",
    "print(b) # >>>(array([0, 1, 2, 3, 4]),)\n",
    "print(c) # >>>[5 6 7 8 9]"
   ]
  },
  {
   "cell_type": "markdown",
   "id": "3eb43444",
   "metadata": {},
   "source": [
    "### 两个数组交互操作"
   ]
  },
  {
   "cell_type": "code",
   "execution_count": 23,
   "id": "8ec12739",
   "metadata": {},
   "outputs": [
    {
     "name": "stdout",
     "output_type": "stream",
     "text": [
      "[[0 1 2 3 4]\n",
      " [5 6 7 8 9]]\n",
      "[[1 1 1 1 1]\n",
      " [1 1 1 1 1]]\n",
      "[[0 1 2 3 4 1 1 1 1 1]\n",
      " [5 6 7 8 9 1 1 1 1 1]]\n",
      "[[0 1 2 3 4 1 1 1 1 1]\n",
      " [5 6 7 8 9 1 1 1 1 1]]\n",
      "[[0 1 2 3 4 1 1 1 1 1]\n",
      " [5 6 7 8 9 1 1 1 1 1]]\n",
      "[[0 1 2 3 4]\n",
      " [5 6 7 8 9]\n",
      " [1 1 1 1 1]\n",
      " [1 1 1 1 1]]\n"
     ]
    }
   ],
   "source": [
    "# 水平叠加两个数组\n",
    "a = np.arange(10).reshape(2,-1)\n",
    "b = np.repeat(1, 10).reshape(2,-1)\n",
    "print(a)\n",
    "print(b)\n",
    "\n",
    "# Answers\n",
    "# Method 1:\n",
    "c = np.concatenate([a, b], axis=1)\n",
    "print(c)\n",
    "\n",
    "# Method 2:\n",
    "d = np.hstack([a, b])\n",
    "print(d)\n",
    "\n",
    "# Method 3:\n",
    "e = np.c_[a, b]\n",
    "print(e)\n",
    "\n",
    "\n",
    "# Method 4:\n",
    "f = np.r_[a, b]\n",
    "print(f)"
   ]
  },
  {
   "cell_type": "code",
   "execution_count": 22,
   "id": "731cbd40",
   "metadata": {},
   "outputs": [
    {
     "name": "stdout",
     "output_type": "stream",
     "text": [
      "[1 2 3]\n",
      "[1 1 1 2 2 2 3 3 3]\n",
      "[1 2 3 1 2 3 1 2 3]\n",
      "[1 1 1 2 2 2 3 3 3 1 2 3 1 2 3 1 2 3]\n"
     ]
    }
   ],
   "source": [
    "# 数组自己重复\n",
    "a = np.array([1,2,3])\n",
    "print(a)\n",
    "\n",
    "b = np.repeat(a, 3)  # 每个元素重复3次\n",
    "print(b)\n",
    "\n",
    "c = np.tile(a, 3)    # 整个数组重复3次\n",
    "print(c)\n",
    "\n",
    "d = np.r_[b,c]       # 连接数组\n",
    "print(d)"
   ]
  },
  {
   "cell_type": "code",
   "execution_count": 27,
   "id": "45a9a86b",
   "metadata": {},
   "outputs": [
    {
     "name": "stdout",
     "output_type": "stream",
     "text": [
      "[2 4 6 8]\n"
     ]
    }
   ],
   "source": [
    "# 获取两个numpy数组之间的公共项，就是在两个数组中都出现的元素\n",
    "a = np.array([1,8,3,2,3,4,3,4,5,6])\n",
    "b = np.array([6,2,10,2,7,4,9,4,9,8])\n",
    "\n",
    "c = np.intersect1d(a,b) \n",
    "print(c)"
   ]
  },
  {
   "cell_type": "code",
   "execution_count": 29,
   "id": "3d52f6e2",
   "metadata": {},
   "outputs": [
    {
     "name": "stdout",
     "output_type": "stream",
     "text": [
      "[1 2 4]\n"
     ]
    }
   ],
   "source": [
    "# 从一个数组中删除存在于另一个数组中的项\n",
    "a = np.array([1,2,3,4,5])\n",
    "b = np.array([5,6,7,3,9])\n",
    "\n",
    "c = np.setdiff1d(a,b)\n",
    "print(c)"
   ]
  },
  {
   "cell_type": "code",
   "execution_count": 31,
   "id": "6190483d",
   "metadata": {},
   "outputs": [
    {
     "name": "stdout",
     "output_type": "stream",
     "text": [
      "(array([1, 3, 5, 7, 8], dtype=int64),)\n"
     ]
    }
   ],
   "source": [
    "# 得到两个数组元素匹配的位置\n",
    "a = np.array([1,2,3,2,3,4,3,4,5,6])\n",
    "b = np.array([7,2,10,2,7,4,9,4,5,8])\n",
    "\n",
    "c = np.where(a == b)\n",
    "print(c)"
   ]
  },
  {
   "cell_type": "code",
   "execution_count": null,
   "id": "d09a87b4",
   "metadata": {},
   "outputs": [],
   "source": [
    "# 从numpy数组中提取给定范围内的所有数字\n",
    "a = np.arange(15)\n",
    "\n",
    "# Method 1\n",
    "index = np.where((a >= 5) & (a <= 10))\n",
    "b = a[index]\n",
    "print(b)\n",
    "\n",
    "# Method 2:\n",
    "index = np.where(np.logical_and(a>=5, a<=10))\n",
    "c = a[index]\n",
    "print(c)\n",
    "# > (array([6, 9, 10]),)\n",
    "\n",
    "# Method 3: (thanks loganzk!)\n",
    "a[(a >= 5) & (a <= 10)]"
   ]
  },
  {
   "cell_type": "code",
   "execution_count": 34,
   "id": "25b2bde0",
   "metadata": {},
   "outputs": [
    {
     "name": "stdout",
     "output_type": "stream",
     "text": [
      "[[0 1 2]\n",
      " [3 4 5]\n",
      " [6 7 8]]\n",
      "[[3 4 5]\n",
      " [0 1 2]\n",
      " [6 7 8]]\n",
      "[[1 0 2]\n",
      " [4 3 5]\n",
      " [7 6 8]]\n"
     ]
    }
   ],
   "source": [
    "# 交换二维numpy数组中的两(行）列\n",
    "# Input\n",
    "a = np.arange(9).reshape(3,3)\n",
    "print(a)\n",
    "\n",
    "b = a[[1,0,2], :]\n",
    "print(b)\n",
    "\n",
    "# Solution\n",
    "c = a[:, [1,0,2]]\n",
    "print(c)"
   ]
  },
  {
   "cell_type": "code",
   "execution_count": null,
   "id": "bda4282b",
   "metadata": {},
   "outputs": [],
   "source": []
  }
 ],
 "metadata": {
  "kernelspec": {
   "display_name": "Python 3 (ipykernel)",
   "language": "python",
   "name": "python3"
  },
  "language_info": {
   "codemirror_mode": {
    "name": "ipython",
    "version": 3
   },
   "file_extension": ".py",
   "mimetype": "text/x-python",
   "name": "python",
   "nbconvert_exporter": "python",
   "pygments_lexer": "ipython3",
   "version": "3.11.0"
  }
 },
 "nbformat": 4,
 "nbformat_minor": 5
}
