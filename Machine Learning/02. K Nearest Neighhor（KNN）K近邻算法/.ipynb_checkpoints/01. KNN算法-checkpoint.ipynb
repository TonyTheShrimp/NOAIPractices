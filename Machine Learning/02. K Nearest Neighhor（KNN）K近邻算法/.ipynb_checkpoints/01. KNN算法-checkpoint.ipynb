{
 "cells": [
  {
   "cell_type": "markdown",
   "id": "54151b17",
   "metadata": {},
   "source": [
    "这部分集成了原书：https://hml.boyuai.com/books/chapter3\n",
    "和：https://www.heywhale.com/mw/project/64191d3bf3da25f228360cea\n",
    "两个来源内容"
   ]
  },
  {
   "attachments": {
    "image.png": {
     "image/png": "[encoded data removed]"
    }
   },
   "cell_type": "markdown",
   "id": "8c645d42",
   "metadata": {},
   "source": [
    "kNN(k-nearest neighbors)，中文翻译K近邻。我们常常听到一个故事：如果要了解一个人的经济水平，只需要知道他最好的5个朋友的经济能力，\n",
    "对他的这五个人的经济水平求平均就是这个人的经济水平。这句话里面就包含着kNN的算法思想。\n",
    "\n",
    "\n",
    "![image.png](attachment:image.png)\n",
    "\n",
    "示例 ：如上图，绿色圆要被决定赋予哪个类，是红色三角形还是蓝色四方形？如果K=3，由于红色三角形所占比例为2/3，绿色圆将被赋予红色三角形那个类，如果K=5，由于蓝色四方形比例为3/5，因此绿色圆被赋予蓝色四方形类。\n",
    "\n",
    "**1) KNN建立过程**\n",
    "\n",
    "1 给定测试样本，计算它与训练集中的每一个样本的距离。    \n",
    "2 找出距离近期的K个训练样本。作为测试样本的近邻。    \n",
    "3 依据这K个近邻归属的类别来确定样本的类别。    \n",
    "\n",
    "简单说，针对数据情况，预估可能分为几个类别（K）。先任意选择K个点作为类别的中心点，根据到这几个点的距离，把所有数据分成K类\n",
    "。然后对于每个组数据，重新计算它们的中心，再以这K个中心点，再进行分类。   \n",
    "重复上述操作，直到中心点不再变化（或变化小于某个预先设定值）\n",
    "\n",
    "\n",
    "**2) 类别的判定**\n",
    "\n",
    "①投票决定，少数服从多数。取类别最多的为测试样本类别。\n",
    "\n",
    "②加权投票法，依据计算得出距离的远近，对近邻的投票进行加权，距离越近则权重越大，设定权重为距离平方的倒数。\n",
    "\n",
    "\n",
    "**优点**  \n",
    "简单有效：KNN是一种理解简单、实现方便的非参数算法。  \n",
    "不需要训练阶段：作为一种惰性学习方法，KNN在分类决策阶段之前不需要执行训练过程。  \n",
    "适应性强：可以用于分类和回归任务。  \n",
    "理论成熟：KNN的理论成熟，容易理解，对数据的分布无任何假设。  \n",
    "  \n",
    "**缺点**  \n",
    "计算成本高：对于每一个测试样本，都需要对所有训练样本进行距离计算，计算量大，尤其是在大数据集上。\n",
    "存储成本高：需要存储全部的数据集。\n",
    "对非均匀样本敏感：KNN对数据不平衡较为敏感，类别不平衡可能导致分类性能下降。\n",
    "维度灾难：随着特征维度的增加，看似近邻的样本点可能在高维空间中相距甚远（距离的概念变得模糊），影响分类/回归性能，这称为“维数诅咒”。\n",
    "  \n",
    "**KNN的应用**\n",
    "KNN虽然很简单，但是人们常说\"大道至简\"，一句\"物以类聚，人以群分\"就能揭开其面纱，看似简单的KNN即能做分类又能做回归，\n",
    "还能用来做数据预处理的缺失值填充。由于KNN模型具有很好的解释性，一般情况下对于简单的机器学习问题，我们可以使用KNN作为\n",
    "Baseline，对于每一个预测结果，我们可以很好的进行解释。推荐系统的中，也有着KNN的影子。例如文章推荐系统中，\n",
    "对于一个用户A，我们可以把和A最相近的k个用户，浏览过的文章推送给A。  \n",
    "由于其简单性，KNN在很多领域都有应用，如推荐系统、图像分类、医学诊断和遥感等。然而，在处理大规模数据集时，由于其高计算和存储成本，可能需要考虑使用更适合大规模数据处理的算法，或者对KNN算法进行优化，比如通过索引结构（如KD树、球树等）来加速近邻搜索过程。\n"
   ]
  }
 ],
 "metadata": {
  "kernelspec": {
   "display_name": "Python 3 (ipykernel)",
   "language": "python",
   "name": "python3"
  },
  "language_info": {
   "codemirror_mode": {
    "name": "ipython",
    "version": 3
   },
   "file_extension": ".py",
   "mimetype": "text/x-python",
   "name": "python",
   "nbconvert_exporter": "python",
   "pygments_lexer": "ipython3",
   "version": "3.11.0"
  }
 },
 "nbformat": 4,
 "nbformat_minor": 5
}
