{
 "cells": [
  {
   "cell_type": "markdown",
   "id": "96f105ab",
   "metadata": {},
   "source": [
    "这个技术比较底层，也挺复杂的。\n",
    "简单了解看这篇吧：https://zhuanlan.zhihu.com/p/391448297\n",
    "复杂详细的看看这篇：https://blog.csdn.net/qq_43966129/article/details/123362032?spm=1001.2101.3001.6661.1&utm_medium=distribute.pc_relevant_t0.none-task-blog-2%7Edefault%7EBlogCommendFromBaidu%7ERate-1-123362032-blog-108271032.235%5Ev43%5Epc_blog_bottom_relevance_base8&depth_1-utm_source=distribute.pc_relevant_t0.none-task-blog-2%7Edefault%7EBlogCommendFromBaidu%7ERate-1-123362032-blog-108271032.235%5Ev43%5Epc_blog_bottom_relevance_base8&utm_relevant_index=1"
   ]
  }
 ],
 "metadata": {
  "kernelspec": {
   "display_name": "Python 3 (ipykernel)",
   "language": "python",
   "name": "python3"
  },
  "language_info": {
   "codemirror_mode": {
    "name": "ipython",
    "version": 3
   },
   "file_extension": ".py",
   "mimetype": "text/x-python",
   "name": "python",
   "nbconvert_exporter": "python",
   "pygments_lexer": "ipython3",
   "version": "3.11.0"
  }
 },
 "nbformat": 4,
 "nbformat_minor": 5
}
