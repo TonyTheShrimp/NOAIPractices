{
 "cells": [
  {
   "cell_type": "markdown",
   "id": "eaacd58d",
   "metadata": {},
   "source": [
    "pandas 的 DataFrame.duplicated 函数用于标识重复的行。它返回一个布尔型 Series，表示每行是否为重复行（除了第一次出现外）。与 drop_duplicates 函数相辅相成，duplicated 允许你检查数据中的重复项而不直接删除它们，这在数据清理和分析过程中非常有用，特别是当你想要理解数据中重复项的性质时。\n",
    "\n",
    "DataFrame.duplicated(subset=None, keep='first')\n",
    "\n",
    "**功能**\n",
    "标识 DataFrame 中的重复行。\n",
    "\n",
    "**参数**\n",
    "subset: column label 或 sequence of labels, 可选。用于定义哪些列用于识别重复。默认情况下，使用所有列。\n",
    "keep: {'first', 'last', False}, 默认为 'first'。这个参数决定了哪些重复项被标记为 True。'first' 会标记除了第一次出现之外的所有重复为 True，'last' 会标记除了最后一次出现之外的重复为 True，而 False 会标记所有重复项为 True。"
   ]
  },
  {
   "cell_type": "code",
   "execution_count": 1,
   "id": "7950a553",
   "metadata": {},
   "outputs": [
    {
     "data": {
      "text/html": [
       "<div>\n",
       "<style scoped>\n",
       "    .dataframe tbody tr th:only-of-type {\n",
       "        vertical-align: middle;\n",
       "    }\n",
       "\n",
       "    .dataframe tbody tr th {\n",
       "        vertical-align: top;\n",
       "    }\n",
       "\n",
       "    .dataframe thead th {\n",
       "        text-align: right;\n",
       "    }\n",
       "</style>\n",
       "<table border=\"1\" class=\"dataframe\">\n",
       "  <thead>\n",
       "    <tr style=\"text-align: right;\">\n",
       "      <th></th>\n",
       "      <th>A</th>\n",
       "      <th>B</th>\n",
       "      <th>C</th>\n",
       "    </tr>\n",
       "  </thead>\n",
       "  <tbody>\n",
       "    <tr>\n",
       "      <th>0</th>\n",
       "      <td>1</td>\n",
       "      <td>2</td>\n",
       "      <td>3</td>\n",
       "    </tr>\n",
       "    <tr>\n",
       "      <th>1</th>\n",
       "      <td>3</td>\n",
       "      <td>4</td>\n",
       "      <td>5</td>\n",
       "    </tr>\n",
       "    <tr>\n",
       "      <th>2</th>\n",
       "      <td>1</td>\n",
       "      <td>2</td>\n",
       "      <td>3</td>\n",
       "    </tr>\n",
       "    <tr>\n",
       "      <th>3</th>\n",
       "      <td>6</td>\n",
       "      <td>2</td>\n",
       "      <td>4</td>\n",
       "    </tr>\n",
       "  </tbody>\n",
       "</table>\n",
       "</div>"
      ],
      "text/plain": [
       "   A  B  C\n",
       "0  1  2  3\n",
       "1  3  4  5\n",
       "2  1  2  3\n",
       "3  6  2  4"
      ]
     },
     "execution_count": 1,
     "metadata": {},
     "output_type": "execute_result"
    }
   ],
   "source": [
    "import numpy as np\n",
    "import pandas as pd\n",
    "\n",
    "df = pd.DataFrame(np.array([\n",
    "    [1,2,3],\n",
    "    [3,4,5],\n",
    "    [1,2,3],\n",
    "    [6,2,4]\n",
    "]), columns=['A', 'B', 'C'])\n",
    "df"
   ]
  },
  {
   "cell_type": "code",
   "execution_count": null,
   "id": "c7b9dab6",
   "metadata": {},
   "outputs": [],
   "source": [
    "duplicated返回的是一个Series， 用True，False表示是否与其他行重复。\n",
    "注意如果keep=True（缺省值），那么第一个出现的不算重复，显示为False。\n",
    "因为True相当于1，False相当0，所以可以用sum求和，得到重复的行的数量。"
   ]
  },
  {
   "cell_type": "code",
   "execution_count": 2,
   "id": "34e2a952",
   "metadata": {},
   "outputs": [
    {
     "data": {
      "text/plain": [
       "0    False\n",
       "1    False\n",
       "2     True\n",
       "3    False\n",
       "dtype: bool"
      ]
     },
     "execution_count": 2,
     "metadata": {},
     "output_type": "execute_result"
    }
   ],
   "source": [
    "df.duplicated()"
   ]
  },
  {
   "cell_type": "code",
   "execution_count": 3,
   "id": "69c2ac54",
   "metadata": {},
   "outputs": [
    {
     "data": {
      "text/plain": [
       "0     True\n",
       "1    False\n",
       "2     True\n",
       "3    False\n",
       "dtype: bool"
      ]
     },
     "execution_count": 3,
     "metadata": {},
     "output_type": "execute_result"
    }
   ],
   "source": [
    "df.duplicated(keep=False)"
   ]
  },
  {
   "cell_type": "code",
   "execution_count": 4,
   "id": "0c8d5213",
   "metadata": {},
   "outputs": [
    {
     "data": {
      "text/plain": [
       "1"
      ]
     },
     "execution_count": 4,
     "metadata": {},
     "output_type": "execute_result"
    }
   ],
   "source": [
    "df.duplicated().sum()"
   ]
  },
  {
   "cell_type": "code",
   "execution_count": null,
   "id": "8507097c",
   "metadata": {},
   "outputs": [],
   "source": []
  }
 ],
 "metadata": {
  "kernelspec": {
   "display_name": "Python 3 (ipykernel)",
   "language": "python",
   "name": "python3"
  },
  "language_info": {
   "codemirror_mode": {
    "name": "ipython",
    "version": 3
   },
   "file_extension": ".py",
   "mimetype": "text/x-python",
   "name": "python",
   "nbconvert_exporter": "python",
   "pygments_lexer": "ipython3",
   "version": "3.11.0"
  }
 },
 "nbformat": 4,
 "nbformat_minor": 5
}
